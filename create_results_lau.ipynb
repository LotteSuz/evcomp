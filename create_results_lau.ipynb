{
 "cells": [
  {
   "cell_type": "code",
   "execution_count": 2,
   "metadata": {},
   "outputs": [],
   "source": [
    "# imports framework\n",
    "import sys\n",
    "import os\n",
    "sys.path.insert(0, 'evoman')\n",
    "from environment import Environment\n",
    "from demo_controller import player_controller\n",
    "from EAlau import Algoritme1\n",
    "import matplotlib.pyplot as plt\n",
    "\n",
    "# import libraries\n",
    "import time\n",
    "import numpy as np\n",
    "import glob\n",
    "import random\n",
    "import pickle as pkl\n",
    "# Params : [121.6,0.3394,33.56,25.66],90.9"
   ]
  },
  {
   "cell_type": "code",
   "execution_count": 3,
   "metadata": {},
   "outputs": [],
   "source": [
    "EA = Algoritme1()"
   ]
  },
  {
   "cell_type": "code",
   "execution_count": null,
   "metadata": {},
   "outputs": [],
   "source": [
    "\n"
   ]
  }
 ],
 "metadata": {
  "kernelspec": {
   "display_name": "Python 3",
   "language": "python",
   "name": "python3"
  },
  "language_info": {
   "codemirror_mode": {
    "name": "ipython",
    "version": 3
   },
   "file_extension": ".py",
   "mimetype": "text/x-python",
   "name": "python",
   "nbconvert_exporter": "python",
   "pygments_lexer": "ipython3",
   "version": "3.7.3"
  }
 },
 "nbformat": 4,
 "nbformat_minor": 2
}
